{
 "cells": [
  {
   "cell_type": "code",
   "execution_count": null,
   "id": "af27c00a",
   "metadata": {
    "ExecuteTime": {
     "end_time": "2025-07-23T15:32:12.123825Z",
     "start_time": "2025-07-23T15:32:10.744348Z"
    }
   },
   "outputs": [],
   "source": [
    "%matplotlib inline\n",
    "%config InlineBackend.figure_format = 'retina'\n",
    "%load_ext autoreload\n",
    "%autoreload 2\n",
    "import os\n",
    "import numpy as np\n",
    "import scipy as sp\n",
    "import pandas as pd\n",
    "import networkx as nx\n",
    "import random\n",
    "import matplotlib.pyplot as plt\n",
    "# import warnings filter\n",
    "from warnings import simplefilter\n",
    "# ignore all future warnings\n",
    "simplefilter(action='ignore', category=FutureWarning)\n",
    "from IPython.core.display import HTML\n",
    "HTML('<style>.container { width:95% !important; }</style><style>.output_png {display: table-cell;text-align: center;vertical-align: middle;}</style>')"
   ]
  },
  {
   "cell_type": "code",
   "execution_count": null,
   "id": "aa8498f5",
   "metadata": {
    "ExecuteTime": {
     "end_time": "2025-07-23T15:32:12.416060Z",
     "start_time": "2025-07-23T15:32:12.126310Z"
    }
   },
   "outputs": [],
   "source": [
    "import plotly.io as pio\n",
    "pio.renderers.default = 'iframe_connected'  # Ensures plots render correctly"
   ]
  },
  {
   "cell_type": "code",
   "execution_count": null,
   "id": "8b531bc2",
   "metadata": {
    "ExecuteTime": {
     "end_time": "2025-07-23T15:32:17.927868Z",
     "start_time": "2025-07-23T15:32:17.906289Z"
    }
   },
   "outputs": [],
   "source": [
    "def make_data_for_plot_emergence_timeline(sel_pub_year_df, selected_data_df, unique_classes, desired_attributes_for_color_list):\n",
    "    from sklearn.preprocessing import MultiLabelBinarizer\n",
    "    import numpy as np  # move import BEFORE first use\n",
    "    \n",
    "    mlb = MultiLabelBinarizer(classes=unique_classes)\n",
    "    mlb.fit([unique_classes])  # dummy fit; needed before transform\n",
    "    \n",
    "    for i, desired_attributes_for_color in enumerate(desired_attributes_for_color_list):\n",
    "        positions = np.where(mlb.transform([desired_attributes_for_color])[0])[0]\n",
    "\n",
    "        df = selected_data_df[['CanonicalSpecies', 'onehot_embedding']].copy()\n",
    "        df['onehot_embedding'] = df['onehot_embedding'].apply(np.array)\n",
    "\n",
    "        df_avg = (\n",
    "            df.groupby('CanonicalSpecies')['onehot_embedding']\n",
    "            .apply(lambda vectors: np.mean(np.stack([v[positions] for v in vectors]), axis=0))\n",
    "            .reset_index(name='avg_vector')\n",
    "        )\n",
    "\n",
    "        if len(desired_attributes_for_color_list)==1:\n",
    "            score_column = f'score'    \n",
    "        else:\n",
    "            score_column = f'score_{i}'\n",
    "        df_avg[score_column] = df_avg['avg_vector'].apply(lambda v: np.mean(v))\n",
    "\n",
    "        sel_pub_year_df = sel_pub_year_df.drop(columns=[score_column], errors='ignore')\n",
    "        sel_pub_year_df = sel_pub_year_df.merge(df_avg[['CanonicalSpecies', score_column]],\n",
    "                                                on='CanonicalSpecies', how='left')\n",
    "    return sel_pub_year_df\n"
   ]
  },
  {
   "cell_type": "code",
   "execution_count": null,
   "id": "1d32b570",
   "metadata": {
    "ExecuteTime": {
     "end_time": "2025-07-23T15:32:18.861295Z",
     "start_time": "2025-07-23T15:32:18.843788Z"
    }
   },
   "outputs": [],
   "source": [
    "directory_name = 'BacterialPathogensData'"
   ]
  },
  {
   "cell_type": "code",
   "execution_count": null,
   "id": "c8a1ed51",
   "metadata": {
    "ExecuteTime": {
     "end_time": "2025-07-22T18:01:28.822101Z",
     "start_time": "2025-07-22T17:48:55.256708Z"
    },
    "scrolled": true
   },
   "outputs": [],
   "source": [
    "from utils import load_dataframe_from_csv\n",
    "data_df = load_dataframe_from_csv(df_csv_name='data.csv', directory_name=directory_name)\n",
    "data_df"
   ]
  },
  {
   "cell_type": "code",
   "execution_count": null,
   "id": "1c58e56e",
   "metadata": {
    "ExecuteTime": {
     "end_time": "2025-07-23T15:32:26.073907Z",
     "start_time": "2025-07-23T15:32:24.990656Z"
    }
   },
   "outputs": [],
   "source": [
    "counts_df = load_dataframe_from_csv(df_csv_name='counts.csv', directory_name=directory_name)\n",
    "counts_df"
   ]
  },
  {
   "cell_type": "code",
   "execution_count": null,
   "id": "45b2c737",
   "metadata": {
    "ExecuteTime": {
     "end_time": "2025-07-23T15:32:51.894495Z",
     "start_time": "2025-07-23T15:32:51.528320Z"
    }
   },
   "outputs": [],
   "source": [
    "from utils import format_data_dict, extract_nested_dict\n",
    "concepts_string, keys_string = format_data_dict(extract_nested_dict(pd.read_excel(directory_name+'/YES_NO_questions.xlsx', header=None)))\n",
    "unique_classes = keys_string.split(', ')+['BACTERIUM']\n",
    "print('#concepts: %d'%(len(unique_classes)) )\n",
    "print('Concepts:')\n",
    "print(', '.join(unique_classes))"
   ]
  },
  {
   "cell_type": "code",
   "execution_count": null,
   "id": "9976aa58",
   "metadata": {
    "ExecuteTime": {
     "end_time": "2025-07-22T18:01:29.726520Z",
     "start_time": "2025-07-22T18:01:29.635728Z"
    }
   },
   "outputs": [],
   "source": [
    "species = '''Burkholderia cenocepacia\n",
    "Bartonella henselae\n",
    "Legionella micdadei\n",
    "Ehrlichia chaffeensis\n",
    "Mycobacterium genavense\n",
    "Helicobacter pylori\n",
    "Borrelia mayonii\n",
    "Staphylococcus argenteus\n",
    "Acinetobacter nosocomialis\n",
    "Brachyspira pilosicoli\n",
    "Pseudomonas oryzihabitans\n",
    "Legionella pneumophila\n",
    "Elizabethkingia anophelis\n",
    "Burkholderia multivorans\n",
    "Burkholderia gladioli\n",
    "Mycobacterium celatum\n",
    "Brucella anthropi\n",
    "Chlamydia pneumoniae\n",
    "Corynebacterium jeikeium\n",
    "Legionella bozemanae\n",
    "Borrelia miyamotoi\n",
    "Rothia aeria\n",
    "Kytococcus schroeteri\n",
    "Nocardia cyriacigeorgica\n",
    "Rickettsia africae\n",
    "Helicobacter heilmannii\n",
    "Borrelia garinii\n",
    "Capnocytophaga canimorsus\n",
    "Borrelia burgdorferi\n",
    "Rothia mucilaginosa\n",
    "Vibrio vulnificus\n",
    "Klebsiella quasipneumoniae\n",
    "Chryseobacterium gleum\n",
    "Klebsiella variicola\n",
    "Acinetobacter pittii\n",
    "Streptococcus gallolyticus\n",
    "Photorhabdus asymbiotica\n",
    "Borrelia afzelii\n",
    "Citrobacter koseri\n",
    "Slackia exigua\n",
    "Aeromonas dhakensis\n",
    "Klebsiella ornithinolytica\n",
    "Borrelia spielmanii\n",
    "Chlamydia abortus\n",
    "Ehrlichia ewingii\n",
    "Shewanella putrefaciens\n",
    "Streptococcus iniae\n",
    "Aerococcus urinae\n",
    "Staphylococcus lugdunensis\n",
    "Campylobacter upsaliensis\n",
    "Sphingomonas paucimobilis\n",
    "Burkholderia cepacia\n",
    "Actinotignum schaalii\n",
    "Enterococcus gallinarum\n",
    "Streptococcus oralis\n",
    "Corynebacterium urealyticum\n",
    "Aeromonas sobria\n",
    "Achromobacter xylosoxidans\n",
    "Mycobacterium malmoense\n",
    "Sarcina ventriculi\n",
    "Burkholderia contaminans\n",
    "Wohlfahrtiimonas chitiniclastica\n",
    "Mycobacterium colombiense\n",
    "Rickettsia massiliae\n",
    "Nocardia abscessus\n",
    "Cardiobacterium valvarum\n",
    "Leptospira borgpetersenii\n",
    "Shewanella algae\n",
    "Corynebacterium amycolatum\n",
    "Rickettsia honei\n",
    "Nocardia nova\n",
    "Rickettsia japonica\n",
    "Helicobacter cinaedi\n",
    "Legionella longbeachae\n",
    "Stenotrophomonas maltophilia\n",
    "Mediterraneibacter gnavus\n",
    "Comamonas kerstersii\n",
    "Mycobacterium sherrisii\n",
    "Roseomonas mucosa\n",
    "Mycobacterium lentiflavum\n",
    "Chryseobacterium indologenes\n",
    "Vibrio mimicus\n",
    "Mycobacterium haemophilum\n",
    "Pantoea dispersa\n",
    "Helicobacter suis\n",
    "Laribacter hongkongensis\n",
    "Burkholderia dolosa\n",
    "Granulibacter bethesdensis\n",
    "Mycobacterium immunogenum\n",
    "Nocardia beijingensis\n",
    "Nocardia asiatica\n",
    "Nocardia veterana\n",
    "Mycoplasmoides genitalium\n",
    "Granulicatella adiacens\n",
    "Rahnella aquatilis\n",
    "Vibrio fluvialis\n",
    "Schaalia meyeri\n",
    "Staphylococcus pseudintermedius\n",
    "Gleimia europaea\n",
    "Elizabethkingia miricola\n",
    "Mycobacterium arupense\n",
    "Leptospira kirschneri\n",
    "Corynebacterium kroppenstedtii\n",
    "Rothia kristinae\n",
    "Mycobacterium goodii\n",
    "Acinetobacter baumannii\n",
    "Bordetella holmesii\n",
    "Corynebacterium macginleyi\n",
    "Staphylococcus capitis\n",
    "Aeromonas veronii\n",
    "Staphylococcus schleiferi\n",
    "Porphyromonas gingivalis\n",
    "Ralstonia pickettii\n",
    "Cronobacter sakazakii\n",
    "Mycobacterium szulgai\n",
    "Cedecea lapagei\n",
    "Escherichia albertii\n",
    "Acinetobacter ursingii\n",
    "Pasteurella canis\n",
    "Bartonella vinsonii\n",
    "Mammaliicoccus sciuri\n",
    "Lactococcus garvieae\n",
    "Roseomonas gilardii\n",
    "Mycobacterium mucogenicum\n",
    "Ureaplasma urealyticum\n",
    "Agrobacterium radiobacter\n",
    "Rothia dentocariosa\n",
    "Corynebacterium propinquum\n",
    "Aerococcus sanguinicola\n",
    "Schaalia turicensis\n",
    "Winkia neuii\n",
    "Campylobacter lari\n",
    "Legionella dumoffii\n",
    "Rickettsia monacensis\n",
    "Paracoccus yeei\n",
    "Tsukamurella tyrosinosolvens\n",
    "Myroides odoratimimus\n",
    "Cupriavidus pauculus\n",
    "Mycobacterium wolinskyi\n",
    "Acinetobacter junii\n",
    "Rickettsia aeschlimannii\n",
    "Ralstonia mannitolilytica\n",
    "Enterococcus raffinosus\n",
    "Mycobacterium heckeshornense\n",
    "Prevotella bivia\n",
    "Pasteurella dagmatis\n",
    "Chryseomonas luteola\n",
    "Vibrio parahaemolyticus\n",
    "Ureaplasma parvum\n",
    "Gemella bergeri\n",
    "Mycobacterium mageritense\n",
    "Enterococcus hirae\n",
    "Mycobacterium interjectum\n",
    "Staphylococcus cohnii\n",
    "Staphylococcus warneri\n",
    "Kingella denitrificans\n",
    "Mycobacterium canariasense\n",
    "Mycobacterium senegalense\n",
    "Gemella sanguinis\n",
    "Nocardia paucivorans\n",
    "Streptococcus sinensis\n",
    "Mycobacterium triplex\n",
    "Brevibacterium casei\n",
    "Leptospira santarosai\n",
    "Tsukamurella pulmonis\n",
    "Staphylococcus caprae\n",
    "Tannerella forsythia\n",
    "Arachnia propionica\n",
    "Shigella sonnei\n",
    "Staphylococcus haemolyticus\n",
    "Kluyvera ascorbata\n",
    "Leuconostoc mesenteroides\n",
    "Mycobacterium neoaurum\n",
    "Schaalia odontolytica\n",
    "Lactococcus lactis\n",
    "Trueperella bernardiae\n",
    "Gordonia sputi\n",
    "Enterococcus casseliflavus\n",
    "Staphylococcus intermedius\n",
    "Proteus penneri\n",
    "Brucella intermedia\n",
    "Streptococcus parasanguinis\n",
    "Gordonia terrae\n",
    "Photobacterium damselae\n",
    "Anaerobiospirillum succiniciproducens\n",
    "Lacticaseibacillus paracasei\n",
    "Arcobacter butzleri\n",
    "Gordonia bronchialis\n",
    "Enterobacter hormaechei\n",
    "Enterococcus cecorum\n",
    "Nocardia pseudobrasiliensis\n",
    "Staphylococcus hominis\n",
    "Pseudescherichia vulneris\n",
    "Bordetella hinzii\n",
    "Ewingella americana\n",
    "Paeniclostridium sordellii\n",
    "Streptococcus gordonii\n",
    "Mycobacterium shimoidei\n",
    "Klebsiella planticola\n",
    "Rickettsia slovaca\n",
    "Yokenella regensburgei\n",
    "Bergeyella zoohelcum\n",
    "Legionella feeleii\n",
    "Grimontia hollisae\n",
    "Capnocytophaga sputigena\n",
    "Porphyromonas macacae\n",
    "Thomasclavelia ramosa\n",
    "Veillonella parvula\n",
    "Campylobacter rectus\n",
    "Staphylococcus simulans\n",
    "Lacticaseibacillus rhamnosus\n",
    "Hoylesella oralis\n",
    "Escherichia hermannii\n",
    "Sphingobacterium multivorum\n",
    "Streptococcus canis\n",
    "Niallia circulans\n",
    "Cedecea davisae\n",
    "Treponema pertenue\n",
    "Clostridium paraputrificum'''\n",
    "selected_species_list = species.split('\\n')\n",
    "len(selected_species_list)"
   ]
  },
  {
   "cell_type": "code",
   "execution_count": null,
   "id": "3a81ef71",
   "metadata": {
    "ExecuteTime": {
     "end_time": "2025-07-23T15:33:33.474135Z",
     "start_time": "2025-07-23T15:33:33.429318Z"
    }
   },
   "outputs": [],
   "source": [
    "pub_year_df = load_dataframe_from_csv(df_csv_name='emergence.csv', directory_name=directory_name)\n",
    "pub_year_df"
   ]
  },
  {
   "cell_type": "code",
   "execution_count": null,
   "id": "6b79cd3a",
   "metadata": {
    "ExecuteTime": {
     "end_time": "2025-07-22T18:01:29.982391Z",
     "start_time": "2025-07-22T18:01:29.848447Z"
    }
   },
   "outputs": [],
   "source": [
    "# select species based on the emergence\n",
    "\n",
    "sel_pub_year_df = pub_year_df[pub_year_df['PublicationYear']>=1971]\n",
    "sel_pub_year_df = sel_pub_year_df[sel_pub_year_df['CanonicalSpecies'].isin(selected_species_list)]\n",
    "selected_pub_species_list = sel_pub_year_df['CanonicalSpecies'].values\n",
    "selected_data_df = data_df[data_df['CanonicalSpecies'].isin(selected_pub_species_list)]\n",
    "print(f'#species {len(selected_pub_species_list)}')\n",
    "from utils import load_dataframe_from_csv, save_dataframe_to_csv\n",
    "save_dataframe_to_csv(sel_pub_year_df, df_csv_name='emergence_list_214.csv', directory_name='')"
   ]
  },
  {
   "cell_type": "code",
   "execution_count": null,
   "id": "a0b3a29a",
   "metadata": {
    "ExecuteTime": {
     "end_time": "2025-07-22T18:01:32.300034Z",
     "start_time": "2025-07-22T18:01:30.006889Z"
    }
   },
   "outputs": [],
   "source": [
    "# Ensure the values are sorted for consistent bin calculation if desired,\n",
    "# though plt.hist can handle unsorted data.\n",
    "filtered_subset_values = sel_pub_year_df['year_n_pubs'].sort_values().values\n",
    "\n",
    "# Define the desired bin size (10 years)\n",
    "bin_size = 5\n",
    "\n",
    "# Calculate the minimum and maximum values of the data\n",
    "min_value = filtered_subset_values.min()\n",
    "max_value = filtered_subset_values.max()\n",
    "\n",
    "# Create an array of bin edges.\n",
    "# The bins will start at a multiple of 10 equal to or less than min_value\n",
    "# and go up to (and slightly beyond) a multiple of 10 equal to or greater than max_value.\n",
    "# This ensures bins align with decades.\n",
    "start_bin = (min_value // bin_size) * bin_size\n",
    "end_bin = ((max_value // bin_size) + 1) * bin_size\n",
    "bins = np.arange(start_bin, end_bin + bin_size, bin_size)\n",
    "\n",
    "\n",
    "# Plot the histogram with the calculated bin edges\n",
    "size=7\n",
    "plt.figure(figsize=(size, .6*size)) # Adjust figure size for better readability\n",
    "plt.hist(filtered_subset_values, bins=bins, edgecolor='black', alpha=0.7)\n",
    "\n",
    "# Add labels and title for clarity\n",
    "plt.xlabel(\"Year\")\n",
    "plt.ylabel(\"Frequency\")\n",
    "#plt.title(f\"Histogram of Years with Bin Size of {bin_size}\")\n",
    "\n",
    "# Set x-axis ticks to display decades\n",
    "# We can use the 'bins' array for xticks directly, or filter it for major decades\n",
    "# For cleaner labels, we'll pick out the decade markers.\n",
    "decade_ticks = np.arange(start_bin, end_bin + bin_size, bin_size)\n",
    "plt.xticks(decade_ticks, rotation=0) # Rotate labels for better fit\n",
    "\n",
    "# Enhance grid for better year readability\n",
    "plt.grid(axis='y', alpha=0.75, linestyle='--')\n",
    "plt.grid(axis='x', alpha=0.5, linestyle=':', color='gray')\n",
    "\n",
    "# Adjust layout to prevent labels from overlapping\n",
    "plt.tight_layout()\n",
    "plt.savefig('histogram_emergence.pdf', format=\"pdf\", dpi=300)\n",
    "# Display the plot\n",
    "plt.show()"
   ]
  },
  {
   "cell_type": "code",
   "execution_count": null,
   "id": "a7000915",
   "metadata": {
    "ExecuteTime": {
     "end_time": "2025-07-22T18:01:32.419865Z",
     "start_time": "2025-07-22T18:01:32.307204Z"
    }
   },
   "outputs": [],
   "source": [
    "# select species based on the emergence\n",
    "\n",
    "sel_pub_year_df = pub_year_df[pub_year_df['PublicationYear']>=1971]\n",
    "sel_pub_year_df = sel_pub_year_df[sel_pub_year_df['n_years_to_n_pubs']<=10]\n",
    "sel_pub_year_df = sel_pub_year_df[sel_pub_year_df['CanonicalSpecies'].isin(selected_species_list)]\n",
    "selected_pub_species_list = sel_pub_year_df['CanonicalSpecies'].values\n",
    "selected_data_df = data_df[data_df['CanonicalSpecies'].isin(selected_pub_species_list)]\n",
    "print(f'#species {len(selected_pub_species_list)}')"
   ]
  },
  {
   "cell_type": "code",
   "execution_count": null,
   "id": "3d64cdb9",
   "metadata": {
    "ExecuteTime": {
     "end_time": "2025-07-22T18:01:44.681640Z",
     "start_time": "2025-07-22T18:01:32.430317Z"
    },
    "scrolled": false
   },
   "outputs": [],
   "source": [
    "embedding_column = 'embedding'\n",
    "embedding_column = 'onehot_embedding'\n",
    "embedding_column = 'anonymised_embedding'\n",
    "\n",
    "from draw_graph_linear_assignment import fast_visualisation\n",
    "clustering_df  = fast_visualisation(\n",
    "    selected_data_df, \n",
    "    counts_df,\n",
    "    desired_attributes_for_embedding=None, \n",
    "    column_group_by='CanonicalSpecies', \n",
    "    column_embedding=embedding_column, \n",
    "    unique_classes=unique_classes,\n",
    "    min_num_to_show=0,\n",
    "    n_clusters=7,\n",
    "    max_cluster_size=12,\n",
    "    use_dendrogram_clustering=True,\n",
    "    contamination=1e-6,\n",
    "    filename='fig4_clusters.pdf',\n",
    "    highlight_elements=None,\n",
    "    figure_size=800)"
   ]
  },
  {
   "cell_type": "code",
   "execution_count": null,
   "id": "27fc4a16",
   "metadata": {
    "ExecuteTime": {
     "end_time": "2025-07-22T18:01:44.925195Z",
     "start_time": "2025-07-22T18:01:44.689471Z"
    },
    "scrolled": false
   },
   "outputs": [],
   "source": [
    "total_n_species = 0\n",
    "for cluster_id in sorted(set(clustering_df['cluster'].values)):\n",
    "    df_grouped = clustering_df.groupby(\"cluster\")[\"CanonicalSpecies\"].agg(lambda x: \", \".join(x)).reset_index()\n",
    "    species_in_cluster = df_grouped[df_grouped['cluster']==cluster_id]['CanonicalSpecies'].values.tolist()[0]\n",
    "    cluster_size = len(species_in_cluster.split(\",\"))\n",
    "    total_n_species += cluster_size\n",
    "    print(f'cluster id:{cluster_id}   #:{cluster_size}')\n",
    "    print(species_in_cluster)\n",
    "    print()\n",
    "print(f'#species: {total_n_species}')"
   ]
  },
  {
   "cell_type": "code",
   "execution_count": null,
   "id": "554cddf4",
   "metadata": {
    "ExecuteTime": {
     "end_time": "2025-07-22T18:01:45.112175Z",
     "start_time": "2025-07-22T18:01:44.932130Z"
    }
   },
   "outputs": [],
   "source": [
    "#add the cluster column to data_df\n",
    "# Drop 'cluster' column if it already exists to avoid conflict\n",
    "if 'cluster' in sel_pub_year_df.columns:\n",
    "    sel_pub_year_df = sel_pub_year_df.drop(columns=['cluster'])\n",
    "\n",
    "# Merge in new cluster labels\n",
    "sel_pub_year_df = sel_pub_year_df.merge(clustering_df, on='CanonicalSpecies', how='right')"
   ]
  },
  {
   "cell_type": "code",
   "execution_count": null,
   "id": "619f314f",
   "metadata": {
    "ExecuteTime": {
     "end_time": "2025-07-22T18:01:45.245882Z",
     "start_time": "2025-07-22T18:01:45.121744Z"
    }
   },
   "outputs": [],
   "source": [
    "#add the cluster column to data_df\n",
    "# Drop 'cluster' column if it already exists to avoid conflict\n",
    "if 'cluster' in selected_data_df.columns:\n",
    "    selected_data_df = selected_data_df.drop(columns=['cluster'])\n",
    "\n",
    "# Merge in new cluster labels\n",
    "selected_data_df = selected_data_df.merge(clustering_df, on='CanonicalSpecies', how='right')"
   ]
  },
  {
   "cell_type": "code",
   "execution_count": null,
   "id": "d0231436",
   "metadata": {
    "ExecuteTime": {
     "end_time": "2025-07-22T18:01:52.516048Z",
     "start_time": "2025-07-22T18:01:45.252311Z"
    },
    "scrolled": false
   },
   "outputs": [],
   "source": [
    "from draw_graph_linear_assignment import plot_emergence_timeline\n",
    "size=1000\n",
    "fig1 = plot_emergence_timeline(\n",
    "    sel_pub_year_df,\n",
    "    \n",
    "    # Show labels for the top-N species based on early publication count\n",
    "    top_n=100,\n",
    "    labels_from_clusters=None,\n",
    "    \n",
    "    # Scatterpoint jitter to reduce overlap\n",
    "    x_jitter_amt=0.5,      # up to ±0.5 years of horizontal jitter\n",
    "    y_jitter_amt=15,        # up to ±5 y-units of vertical jitter\n",
    "\n",
    "    # Used to compute text width in years, e.g. 0.5 \"years\" per character\n",
    "    year_per_char=0.5,\n",
    "\n",
    "    # Padding between label lanes and central row\n",
    "    padding=15,            # vertical space between the central band and label lanes\n",
    "    lane_gap=5,           # vertical space between consecutive label lanes\n",
    "\n",
    "    # Minimum row height for each cluster band (can grow if more lanes are needed)\n",
    "    base_row_height=100,\n",
    "\n",
    "    # Interval between year ticks on the x-axis\n",
    "    dtick=5,\n",
    "\n",
    "    # Random seed for reproducibility of jitter and lane placement\n",
    "    random_state=2025,\n",
    "\n",
    "    # Whether to separate rows by cluster (True = stacked bands, False = single band)\n",
    "    separate_by_cluster=True,\n",
    "\n",
    "    # Whether to color nodes by the \"score\" column instead of cluster color\n",
    "    use_score=False,\n",
    "\n",
    "    # Colormap for the score (reversed Yellow-Orange-Red)\n",
    "    cmap='rdylbu_r',\n",
    "\n",
    "    # Save the figure to this file (e.g., PDF for publication)\n",
    "    filename='emergence_line_clusters.pdf',\n",
    "    \n",
    "    export_width=size,\n",
    "    export_height=int(size*3),\n",
    ")"
   ]
  },
  {
   "cell_type": "code",
   "execution_count": null,
   "id": "8abc4427",
   "metadata": {
    "ExecuteTime": {
     "end_time": "2025-07-22T18:01:53.641647Z",
     "start_time": "2025-07-22T18:01:52.523022Z"
    },
    "scrolled": false
   },
   "outputs": [],
   "source": [
    "from draw_graph_linear_assignment import plot_emergence_timeline\n",
    "size=1000\n",
    "\n",
    "desired_attributes_for_color_list = [[\"ZOONOSIS\"]]\n",
    "\n",
    "sel_pub_year_df = make_data_for_plot_emergence_timeline(sel_pub_year_df, selected_data_df, unique_classes, desired_attributes_for_color_list)\n",
    "\n",
    "\n",
    "fig1 = plot_emergence_timeline(\n",
    "    sel_pub_year_df,\n",
    "    \n",
    "    # Show labels for the top-N species based on early publication count\n",
    "    top_n=13,\n",
    "    labels_from_clusters=None,\n",
    "    \n",
    "    # Scatterpoint jitter to reduce overlap\n",
    "    x_jitter_amt=0.5,      # up to ±0.5 years of horizontal jitter\n",
    "    y_jitter_amt=30,        # up to ±5 y-units of vertical jitter\n",
    "\n",
    "    # Used to compute text width in years, e.g. 0.5 \"years\" per character\n",
    "    year_per_char=0.5,\n",
    "\n",
    "    # Padding between label lanes and central row\n",
    "    padding=150,            # vertical space between the central band and label lanes\n",
    "    lane_gap=50,           # vertical space between consecutive label lanes\n",
    "\n",
    "    # Minimum row height for each cluster band (can grow if more lanes are needed)\n",
    "    base_row_height=100,\n",
    "\n",
    "    # Interval between year ticks on the x-axis\n",
    "    dtick=5,\n",
    "\n",
    "    # Random seed for reproducibility of jitter and lane placement\n",
    "    random_state=2025,\n",
    "\n",
    "    # Whether to separate rows by cluster (True = stacked bands, False = single band)\n",
    "    separate_by_cluster=False,\n",
    "\n",
    "    # Whether to color nodes by the \"score\" column instead of cluster color\n",
    "    use_score='score',\n",
    "\n",
    "    # Colormap for the score (reversed Yellow-Orange-Red)\n",
    "    cmap='rdylbu_r',\n",
    "\n",
    "    # Save the figure to this file (e.g., PDF for publication)\n",
    "    filename='emergence_line_ZOONOSIS.pdf',\n",
    "    \n",
    "    export_width=size,\n",
    "    export_height=int(size*.5),\n",
    ")\n",
    "#sort labelas by score and only plot the top scoring ones "
   ]
  },
  {
   "cell_type": "code",
   "execution_count": null,
   "id": "58307fee",
   "metadata": {
    "ExecuteTime": {
     "end_time": "2025-07-22T18:01:54.516519Z",
     "start_time": "2025-07-22T18:01:53.648004Z"
    },
    "scrolled": false
   },
   "outputs": [],
   "source": [
    "from draw_graph_linear_assignment import plot_emergence_timeline\n",
    "size=1000\n",
    "\n",
    "desired_attributes_for_color_list = [[\"MULTIDRUG RESISTANCE\"]]\n",
    "\n",
    "sel_pub_year_df = make_data_for_plot_emergence_timeline(sel_pub_year_df, selected_data_df, unique_classes, desired_attributes_for_color_list)\n",
    "\n",
    "\n",
    "fig1 = plot_emergence_timeline(\n",
    "    sel_pub_year_df,\n",
    "    \n",
    "    # Show labels for the top-N species based on early publication count\n",
    "    top_n=9,\n",
    "    labels_from_clusters=None,\n",
    "    \n",
    "    # Scatterpoint jitter to reduce overlap\n",
    "    x_jitter_amt=0.5,      # up to ±0.5 years of horizontal jitter\n",
    "    y_jitter_amt=30,        # up to ±5 y-units of vertical jitter\n",
    "\n",
    "    # Used to compute text width in years, e.g. 0.5 \"years\" per character\n",
    "    year_per_char=0.5,\n",
    "\n",
    "    # Padding between label lanes and central row\n",
    "    padding=150,            # vertical space between the central band and label lanes\n",
    "    lane_gap=50,           # vertical space between consecutive label lanes\n",
    "\n",
    "    # Minimum row height for each cluster band (can grow if more lanes are needed)\n",
    "    base_row_height=100,\n",
    "\n",
    "    # Interval between year ticks on the x-axis\n",
    "    dtick=5,\n",
    "\n",
    "    # Random seed for reproducibility of jitter and lane placement\n",
    "    random_state=2025,\n",
    "\n",
    "    # Whether to separate rows by cluster (True = stacked bands, False = single band)\n",
    "    separate_by_cluster=False,\n",
    "\n",
    "    # Whether to color nodes by the \"score\" column instead of cluster color\n",
    "    use_score='score',\n",
    "\n",
    "    # Colormap for the score (reversed Yellow-Orange-Red)\n",
    "    cmap='rdylbu_r',\n",
    "\n",
    "    # Save the figure to this file (e.g., PDF for publication)\n",
    "    filename='emergence_line_MULTIDRUG.pdf',\n",
    "    \n",
    "    export_width=size,\n",
    "    export_height=int(size*.5),\n",
    ")\n",
    "#sort labelas by score and only plot the top scoring ones "
   ]
  },
  {
   "cell_type": "code",
   "execution_count": null,
   "id": "d58922cf",
   "metadata": {
    "ExecuteTime": {
     "end_time": "2025-07-22T18:02:01.776963Z",
     "start_time": "2025-07-22T18:01:54.524440Z"
    },
    "scrolled": false
   },
   "outputs": [],
   "source": [
    "from draw_graph_linear_assignment import draw_dendrogram\n",
    "for column_color_by in ['cluster']:\n",
    "    draw_dendrogram(\n",
    "        selected_data_df, \n",
    "        column_group_by='CanonicalSpecies', \n",
    "        column_embedding='anonymised_embedding', \n",
    "        column_color_by=column_color_by,\n",
    "        min_num_to_show=3,\n",
    "        white_fraction=.7,\n",
    "        filename=f'{column_color_by}_den',\n",
    "        use_legend=False,\n",
    "        figsize=12)"
   ]
  },
  {
   "cell_type": "markdown",
   "id": "028365a5",
   "metadata": {},
   "source": [
    "---"
   ]
  }
 ],
 "metadata": {
  "kernelspec": {
   "display_name": "Python (py38)",
   "language": "python",
   "name": "py38"
  },
  "language_info": {
   "codemirror_mode": {
    "name": "ipython",
    "version": 3
   },
   "file_extension": ".py",
   "mimetype": "text/x-python",
   "name": "python",
   "nbconvert_exporter": "python",
   "pygments_lexer": "ipython3",
   "version": "3.8.20"
  }
 },
 "nbformat": 4,
 "nbformat_minor": 5
}
