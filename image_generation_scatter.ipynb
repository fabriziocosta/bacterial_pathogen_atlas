{
 "cells": [
  {
   "cell_type": "code",
   "execution_count": null,
   "id": "b490b7a1",
   "metadata": {
    "ExecuteTime": {
     "end_time": "2025-07-23T15:38:47.278826Z",
     "start_time": "2025-07-23T15:38:46.025478Z"
    }
   },
   "outputs": [],
   "source": [
    "%matplotlib inline\n",
    "%config InlineBackend.figure_format = 'retina'\n",
    "%load_ext autoreload\n",
    "%autoreload 2\n",
    "import os\n",
    "import numpy as np\n",
    "import scipy as sp\n",
    "import pandas as pd\n",
    "import networkx as nx\n",
    "import random\n",
    "import matplotlib.pyplot as plt\n",
    "# import warnings filter\n",
    "from warnings import simplefilter\n",
    "# ignore all future warnings\n",
    "simplefilter(action='ignore', category=FutureWarning)\n",
    "from IPython.core.display import HTML\n",
    "HTML('<style>.container { width:95% !important; }</style><style>.output_png {display: table-cell;text-align: center;vertical-align: middle;}</style>')"
   ]
  },
  {
   "cell_type": "code",
   "execution_count": null,
   "id": "ebc9b506",
   "metadata": {
    "ExecuteTime": {
     "end_time": "2025-07-23T15:38:49.190896Z",
     "start_time": "2025-07-23T15:38:48.945713Z"
    }
   },
   "outputs": [],
   "source": [
    "import plotly.io as pio\n",
    "pio.renderers.default = 'iframe_connected'  # Ensures plots render correctly"
   ]
  },
  {
   "cell_type": "code",
   "execution_count": null,
   "id": "adba73b3",
   "metadata": {
    "ExecuteTime": {
     "end_time": "2025-07-23T15:38:50.269832Z",
     "start_time": "2025-07-23T15:38:50.248609Z"
    }
   },
   "outputs": [],
   "source": [
    "directory_name = 'BacterialPathogensData'"
   ]
  },
  {
   "cell_type": "code",
   "execution_count": null,
   "id": "895cb34e",
   "metadata": {
    "ExecuteTime": {
     "end_time": "2025-07-23T15:44:06.700367Z",
     "start_time": "2025-07-23T15:38:51.226741Z"
    }
   },
   "outputs": [],
   "source": [
    "from utils import load_dataframe_from_csv\n",
    "data_df = load_dataframe_from_csv(df_csv_name='data.csv', directory_name=directory_name)\n",
    "data_df"
   ]
  },
  {
   "cell_type": "code",
   "execution_count": null,
   "id": "66572974",
   "metadata": {
    "ExecuteTime": {
     "end_time": "2025-07-23T15:46:40.631332Z",
     "start_time": "2025-07-23T15:46:40.507054Z"
    }
   },
   "outputs": [],
   "source": [
    "counts_df = load_dataframe_from_csv(df_csv_name='counts.csv', directory_name=directory_name)\n",
    "counts_df"
   ]
  },
  {
   "cell_type": "code",
   "execution_count": null,
   "id": "181f1b9c",
   "metadata": {
    "ExecuteTime": {
     "end_time": "2025-07-23T15:46:43.156012Z",
     "start_time": "2025-07-23T15:46:43.029737Z"
    }
   },
   "outputs": [],
   "source": [
    "from utils import format_data_dict, extract_nested_dict\n",
    "concepts_string, keys_string = format_data_dict(extract_nested_dict(pd.read_excel(directory_name+'/YES_NO_questions.xlsx', header=None)))\n",
    "unique_classes = keys_string.split(', ')+['BACTERIUM']\n",
    "print('#concepts: %d'%(len(unique_classes)) )\n",
    "print('Concepts:')\n",
    "print(', '.join(unique_classes))"
   ]
  },
  {
   "cell_type": "code",
   "execution_count": null,
   "id": "442f90fe",
   "metadata": {
    "ExecuteTime": {
     "end_time": "2025-07-23T15:47:00.114142Z",
     "start_time": "2025-07-23T15:46:44.842516Z"
    },
    "scrolled": false
   },
   "outputs": [],
   "source": [
    "from draw_graph_linear_assignment import fast_visualisation\n",
    "fast_visualisation(\n",
    "    data_df, \n",
    "    counts_df,\n",
    "    desired_attributes_for_embedding=None, \n",
    "    column_group_by='CanonicalSpecies', \n",
    "    column_embedding='anonymised_embedding', \n",
    "    unique_classes=unique_classes,\n",
    "    min_num_to_show=3,\n",
    "    filename='fig3_overview.pdf',\n",
    "    figure_size=1000,\n",
    "    show_legend=False)"
   ]
  },
  {
   "cell_type": "code",
   "execution_count": null,
   "id": "e206d596",
   "metadata": {
    "ExecuteTime": {
     "end_time": "2025-07-23T15:47:40.538614Z",
     "start_time": "2025-07-23T15:47:31.224381Z"
    }
   },
   "outputs": [],
   "source": [
    "fast_visualisation(\n",
    "    data_df, \n",
    "    counts_df,\n",
    "    desired_attributes_for_embedding=None, \n",
    "    desired_attributes_for_color = [\"ZOONOSIS\"],\n",
    "    column_group_by='CanonicalSpecies', \n",
    "    column_embedding='anonymised_embedding', \n",
    "    unique_classes=unique_classes,\n",
    "    min_num_to_show=3,\n",
    "    use_linear_contrast=True, \n",
    "    x_ref=5, \n",
    "    z_ref=30,\n",
    "    cmap='hot_r',\n",
    "    filename='fig3D_ZOONOSIS.pdf',\n",
    "    highlight_elements=['Chlamydia psittaci','Chlamydia trachomatis'],\n",
    "    figure_size=1000,\n",
    "    show_legend=False)"
   ]
  },
  {
   "cell_type": "code",
   "execution_count": null,
   "id": "768b0615",
   "metadata": {
    "ExecuteTime": {
     "end_time": "2025-07-23T15:47:51.128530Z",
     "start_time": "2025-07-23T15:47:42.314780Z"
    }
   },
   "outputs": [],
   "source": [
    "fast_visualisation(\n",
    "    data_df, \n",
    "    counts_df,\n",
    "    desired_attributes_for_embedding=None, \n",
    "    desired_attributes_for_color = [\"SEXUALLY TRANSMITTED\"],\n",
    "    column_group_by='CanonicalSpecies', \n",
    "    column_embedding='anonymised_embedding', \n",
    "    unique_classes=unique_classes,\n",
    "    min_num_to_show=3,\n",
    "    use_linear_contrast=True, \n",
    "    x_ref=5, \n",
    "    z_ref=30,\n",
    "    cmap='hot_r',\n",
    "    filename='fig3C_STD.pdf',\n",
    "    highlight_elements=['Neisseria gonorrhoeae','Treponema pallidum', 'Shigella boydii', 'Klebsiella granulomatis' ],\n",
    "    figure_size=1000,\n",
    "    show_legend=False)"
   ]
  },
  {
   "cell_type": "code",
   "execution_count": null,
   "id": "3da79fc9",
   "metadata": {
    "ExecuteTime": {
     "end_time": "2025-07-23T15:48:00.100034Z",
     "start_time": "2025-07-23T15:47:53.115805Z"
    }
   },
   "outputs": [],
   "source": [
    "from draw_graph_linear_assignment import fast_visualisation\n",
    "clustering_df = fast_visualisation(\n",
    "    data_df, \n",
    "    counts_df,\n",
    "    desired_attributes_for_embedding=None, \n",
    "    column_group_by='CanonicalSpecies', \n",
    "    column_embedding='anonymised_embedding', \n",
    "    unique_classes=unique_classes,\n",
    "    min_num_to_show=12,\n",
    "    n_clusters=75,\n",
    "    contamination=1e-6,\n",
    "    filename='fig5_pathogen_types.pdf',\n",
    "    figure_size=1000,\n",
    "    show_legend=False)"
   ]
  },
  {
   "cell_type": "markdown",
   "id": "c5c87640",
   "metadata": {},
   "source": [
    "---"
   ]
  },
  {
   "cell_type": "code",
   "execution_count": null,
   "id": "406e1bf9",
   "metadata": {
    "ExecuteTime": {
     "end_time": "2025-07-23T15:53:23.339873Z",
     "start_time": "2025-07-23T15:53:16.990605Z"
    }
   },
   "outputs": [],
   "source": [
    "SYSTEM_concepts = [\"NERVOUS SYSTEM\", \"VISUAL SYSTEM\", \"EAR\", \"CIRCULATORY SYSTEM\", \"RESPIRATORY SYSTEM\", \"DIGESTIVE SYSTEM\", \"SKIN\", \"MUSCULOSKELETAL\", \"GENITOURINARY\", \"SYSTEMIC\", \"STERILE SITE\"]\n",
    "min_num_causation = 3\n",
    "selected_counts_df = counts_df[counts_df['n_causation'] >= min_num_causation]\n",
    "\n",
    "selected_genera_list = ['Mycobacterium', 'Corynebacterium', 'Nocardia', 'Streptococcus', 'Staphylococcus', 'Clostridium', 'Burkholderia', 'Pseudomonas', 'Legionella']\n",
    "selected_counts_df = selected_counts_df[selected_counts_df['Genus'].isin(selected_genera_list)]\n",
    "\n",
    "selected_species_list = selected_counts_df['CanonicalSpecies'].values.tolist()\n",
    "selected_data_df = data_df[data_df['CanonicalSpecies'].isin(selected_species_list)]\n",
    "\n",
    "print('Selected data contains: ')\n",
    "print('#genera: %d'%len(set(selected_data_df['Genus'].values.tolist())))\n",
    "print('#species: %d'%len(set(selected_data_df['CanonicalSpecies'].values.tolist())))\n",
    "\n",
    "data_hot_df = selected_data_df.loc[:,['CanonicalSpecies','onehot_embedding']]\n",
    "averaged_embeddings = data_hot_df.groupby('CanonicalSpecies')['onehot_embedding'].agg(lambda x: np.mean(np.stack(x), axis=0))\n",
    "\n",
    "from draw_graph_linear_assignment import compute_entropy_distribution_by_genus\n",
    "compute_entropy_distribution_by_genus(\n",
    "    data_series=averaged_embeddings,\n",
    "    axis_labels=unique_classes,\n",
    "    selected_names=selected_species_list, \n",
    "    selected_axis_names=SYSTEM_concepts,\n",
    "    title='SYSTEM_concepts',\n",
    "    combined_plot=True,\n",
    "    scale=0.8,\n",
    "    filename='fig4_entropy.pdf'\n",
    ")"
   ]
  },
  {
   "cell_type": "code",
   "execution_count": null,
   "id": "87f038e5",
   "metadata": {
    "ExecuteTime": {
     "end_time": "2025-07-23T15:49:24.989161Z",
     "start_time": "2025-07-23T15:49:21.179123Z"
    }
   },
   "outputs": [],
   "source": [
    "selected_axis_names = [\"EAR\", \"CIRCULATORY SYSTEM\", \"NERVOUS SYSTEM\", \"VISUAL SYSTEM\", \"RESPIRATORY SYSTEM\", \"SKIN\", \"MUSCULOSKELETAL\", \"SYSTEMIC\", \"STERILE SITE\", \"DIGESTIVE SYSTEM\", \"GENITOURINARY\"]\n",
    "selected_species_list = ['Mycobacterium flavescens','Mycobacterium ulcerans']\n",
    "selected_data_df = data_df[data_df['CanonicalSpecies'].isin(selected_species_list)]\n",
    "data_hot_df = selected_data_df.loc[:,['CanonicalSpecies','onehot_embedding']]\n",
    "averaged_embeddings = data_hot_df.groupby('CanonicalSpecies')['onehot_embedding'].agg(lambda x: np.mean(np.stack(x), axis=0))\n",
    "selected_names = selected_species_list\n",
    "comparative_selected_names = selected_names[1:]+selected_names[0:1]\n",
    "\n",
    "from draw_graph_linear_assignment import plot_radar_from_series\n",
    "plot_radar_from_series(\n",
    "    averaged_embeddings, \n",
    "    selected_names=selected_names, \n",
    "    axis_labels=unique_classes, \n",
    "    selected_axis_names=selected_axis_names, \n",
    "    comparative_selected_names=comparative_selected_names, \n",
    "    num_per_row=6, \n",
    "    size=6,\n",
    "    fix_axis_range=True,     # fix axes to [0, 1]\n",
    "    log_scale=True,           # apply log(value + 1)\n",
    "    filename='fig4B_radar.pdf'\n",
    ")"
   ]
  },
  {
   "cell_type": "code",
   "execution_count": null,
   "id": "39fa8d90",
   "metadata": {
    "ExecuteTime": {
     "end_time": "2025-07-23T15:49:32.332005Z",
     "start_time": "2025-07-23T15:49:28.581973Z"
    }
   },
   "outputs": [],
   "source": [
    "from draw_graph_linear_assignment import plot_tsne_with_ellipses\n",
    "genera = ['Neisseria']\n",
    "species_list = set(data_df[data_df['Genus'].isin(genera)]['CanonicalSpecies'].values)\n",
    "local_df = data_df[data_df['CanonicalSpecies'].isin(species_list)]\n",
    "\n",
    "kwargs = dict(\n",
    "    color_col='CanonicalSpecies', \n",
    "    confidence=15,\n",
    "    n_std=2, \n",
    "    min_n_instances=8,\n",
    "    plot_width=1000, \n",
    "    plot_height=1000,\n",
    "    ellipse_darken_factor=0.95,\n",
    ")\n",
    "embedding_column = 'anonymised_embedding'\n",
    "show_scatter=True\n",
    "fig = plot_tsne_with_ellipses(\n",
    "    local_df, \n",
    "    coordinate_col=embedding_column, \n",
    "    show_scatter=show_scatter,\n",
    "    **kwargs)\n",
    "fig.show()"
   ]
  },
  {
   "cell_type": "code",
   "execution_count": null,
   "id": "e2ca2ac1",
   "metadata": {
    "ExecuteTime": {
     "end_time": "2025-07-23T15:53:08.242426Z",
     "start_time": "2025-07-23T15:49:37.158460Z"
    }
   },
   "outputs": [],
   "source": [
    "from draw_graph_linear_assignment import plot_tsne_with_ellipses\n",
    "\n",
    "def generate_all_plots(genera_list):\n",
    "    genera = '-'.join(genera_list)\n",
    "    species_list = set(data_df[data_df['Genus'].isin(genera_list)]['CanonicalSpecies'].values)\n",
    "    local_df = data_df[data_df['CanonicalSpecies'].isin(species_list)]\n",
    "\n",
    "    kwargs = dict(\n",
    "        color_col='CanonicalSpecies', \n",
    "        confidence=15,\n",
    "        n_std=2, \n",
    "        min_n_instances=8,\n",
    "        plot_width=1000, \n",
    "        plot_height=1000,\n",
    "        ellipse_darken_factor=0.95,\n",
    "    )\n",
    "\n",
    "    for embedding_column in ['onehot_embedding','embedding','anonymised_embedding']:\n",
    "        for show_scatter in [True, False]:\n",
    "            title=f\"Species:{genera} with embedding:{embedding_column} [with points:{show_scatter}]\"\n",
    "\n",
    "            fig = plot_tsne_with_ellipses(\n",
    "                local_df, \n",
    "                coordinate_col=embedding_column, \n",
    "                title=title,\n",
    "                show_scatter=show_scatter,\n",
    "                **kwargs)\n",
    "            \n",
    "genera_list = ['Neisseria', 'Klebsiella', 'Corynebacterium', 'Campylobacter', 'Yersinia', 'Burkholderia']\n",
    "generate_all_plots(genera_list)"
   ]
  },
  {
   "cell_type": "markdown",
   "id": "2332a58f",
   "metadata": {},
   "source": [
    "---"
   ]
  }
 ],
 "metadata": {
  "kernelspec": {
   "display_name": "Python (py38)",
   "language": "python",
   "name": "py38"
  },
  "language_info": {
   "codemirror_mode": {
    "name": "ipython",
    "version": 3
   },
   "file_extension": ".py",
   "mimetype": "text/x-python",
   "name": "python",
   "nbconvert_exporter": "python",
   "pygments_lexer": "ipython3",
   "version": "3.8.20"
  }
 },
 "nbformat": 4,
 "nbformat_minor": 5
}
